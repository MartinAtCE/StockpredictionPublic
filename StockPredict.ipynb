{
  "nbformat": 4,
  "nbformat_minor": 0,
  "metadata": {
    "colab": {
      "name": "StockPredict",
      "version": "0.3.2",
      "provenance": [],
      "collapsed_sections": [],
      "include_colab_link": true
    },
    "kernelspec": {
      "name": "python3",
      "display_name": "Python 3"
    }
  },
  "cells": [
    {
      "cell_type": "markdown",
      "metadata": {
        "id": "view-in-github",
        "colab_type": "text"
      },
      "source": [
        "<a href=\"https://colab.research.google.com/github/MartinAtCE/StockpredictionPublic/blob/master/StockPredict.ipynb\" target=\"_parent\"><img src=\"https://colab.research.google.com/assets/colab-badge.svg\" alt=\"Open In Colab\"/></a>"
      ]
    },
    {
      "cell_type": "code",
      "metadata": {
        "id": "s3sExcybWrmN",
        "colab_type": "code",
        "colab": {}
      },
      "source": [
        "import quandl\n",
        "import numpy as np\n",
        "from sklearn.linear_model import LinearRegression\n",
        "from sklearn.svm import SVR\n",
        "from sklearn.model_selection import train_test_split"
      ],
      "execution_count": 0,
      "outputs": []
    },
    {
      "cell_type": "code",
      "metadata": {
        "id": "CYrTP6DZXHD0",
        "colab_type": "code",
        "colab": {
          "base_uri": "https://localhost:8080/",
          "height": 170
        },
        "outputId": "1e4910c7-8c6f-43a6-d262-bcb15eba5504"
      },
      "source": [
        "#Get the stock data\n",
        "df = quandl.get (\"WIKI/FB\")\n",
        "# Take a look at the data\n",
        "print(df.head())"
      ],
      "execution_count": 8,
      "outputs": [
        {
          "output_type": "stream",
          "text": [
            "             Open   High    Low  ...  Adj. Low  Adj. Close  Adj. Volume\n",
            "Date                             ...                                   \n",
            "2012-05-18  42.05  45.00  38.00  ...     38.00     38.2318  573576400.0\n",
            "2012-05-21  36.53  36.66  33.00  ...     33.00     34.0300  168192700.0\n",
            "2012-05-22  32.61  33.59  30.94  ...     30.94     31.0000  101786600.0\n",
            "2012-05-23  31.37  32.50  31.36  ...     31.36     32.0000   73600000.0\n",
            "2012-05-24  32.95  33.21  31.77  ...     31.77     33.0300   50237200.0\n",
            "\n",
            "[5 rows x 12 columns]\n"
          ],
          "name": "stdout"
        }
      ]
    },
    {
      "cell_type": "code",
      "metadata": {
        "id": "bKA2A59wX-vc",
        "colab_type": "code",
        "colab": {
          "base_uri": "https://localhost:8080/",
          "height": 136
        },
        "outputId": "1d620764-c2d5-46d0-a616-ff562c6e34e1"
      },
      "source": [
        "# Get the adjustead close\n",
        "df = df[['Adj. Close']]\n",
        "# Take a look at reduced data\n",
        "print(df.head())"
      ],
      "execution_count": 9,
      "outputs": [
        {
          "output_type": "stream",
          "text": [
            "            Adj. Close\n",
            "Date                  \n",
            "2012-05-18     38.2318\n",
            "2012-05-21     34.0300\n",
            "2012-05-22     31.0000\n",
            "2012-05-23     32.0000\n",
            "2012-05-24     33.0300\n"
          ],
          "name": "stdout"
        }
      ]
    },
    {
      "cell_type": "code",
      "metadata": {
        "id": "SNBe1fg5YPID",
        "colab_type": "code",
        "colab": {
          "base_uri": "https://localhost:8080/",
          "height": 136
        },
        "outputId": "2a3c08eb-489d-49b2-e91e-d877c839b332"
      },
      "source": [
        "# A variable for predicting 'n' days into the future\n",
        "forecast_out = 1\n",
        "# Create another column (the target or dependent variable) shifted 'n' units up\n",
        "df['Prediction'] = df[['Adj. Close']].shift(-1)\n",
        "print(df.head())"
      ],
      "execution_count": 11,
      "outputs": [
        {
          "output_type": "stream",
          "text": [
            "            Adj. Close  Prediction\n",
            "Date                              \n",
            "2012-05-18     38.2318       34.03\n",
            "2012-05-21     34.0300       31.00\n",
            "2012-05-22     31.0000       32.00\n",
            "2012-05-23     32.0000       33.03\n",
            "2012-05-24     33.0300       31.91\n"
          ],
          "name": "stdout"
        }
      ]
    }
  ]
}