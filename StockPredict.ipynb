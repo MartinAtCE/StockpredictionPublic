{
  "nbformat": 4,
  "nbformat_minor": 0,
  "metadata": {
    "colab": {
      "name": "StockPredict",
      "provenance": [],
      "collapsed_sections": [],
      "include_colab_link": true
    },
    "kernelspec": {
      "name": "python3",
      "display_name": "Python 3"
    }
  },
  "cells": [
    {
      "cell_type": "markdown",
      "metadata": {
        "id": "view-in-github",
        "colab_type": "text"
      },
      "source": [
        "<a href=\"https://colab.research.google.com/github/MartinAtCE/StockpredictionPublic/blob/master/StockPredict.ipynb\" target=\"_parent\"><img src=\"https://colab.research.google.com/assets/colab-badge.svg\" alt=\"Open In Colab\"/></a>"
      ]
    },
    {
      "cell_type": "code",
      "metadata": {
        "id": "meSHFS3Kuy1R",
        "colab_type": "code",
        "colab": {
          "base_uri": "https://localhost:8080/",
          "height": 139
        },
        "outputId": "092cdb8b-cd8a-4bdc-b031-ce5cc83cfb49"
      },
      "source": [
        "!pip install -q quandl"
      ],
      "execution_count": 2,
      "outputs": [
        {
          "output_type": "stream",
          "text": [
            "\u001b[?25l\r\u001b[K     |██████▎                         | 10kB 24.1MB/s eta 0:00:01\r\u001b[K     |████████████▌                   | 20kB 30.6MB/s eta 0:00:01\r\u001b[K     |██████████████████▉             | 30kB 38.5MB/s eta 0:00:01\r\u001b[K     |█████████████████████████       | 40kB 5.5MB/s eta 0:00:01\r\u001b[K     |███████████████████████████████▎| 51kB 6.6MB/s eta 0:00:01\r\u001b[K     |████████████████████████████████| 61kB 6.8MB/s \n",
            "\u001b[K     |████████████████████████████████| 61kB 25.2MB/s \n",
            "\u001b[K     |████████████████████████████████| 2.3MB 14.4MB/s \n",
            "\u001b[K     |████████████████████████████████| 102kB 34.0MB/s \n",
            "\u001b[?25h  Building wheel for inflection (setup.py) ... \u001b[?25l\u001b[?25hdone\n",
            "\u001b[31mERROR: datascience 0.10.6 has requirement folium==0.2.1, but you'll have folium 0.8.3 which is incompatible.\u001b[0m\n"
          ],
          "name": "stdout"
        }
      ]
    },
    {
      "cell_type": "code",
      "metadata": {
        "id": "s3sExcybWrmN",
        "colab_type": "code",
        "colab": {}
      },
      "source": [
        "import quandl\n",
        "import numpy as np\n",
        "from sklearn.linear_model import LinearRegression\n",
        "from sklearn.svm import SVR\n",
        "from sklearn.model_selection import train_test_split"
      ],
      "execution_count": 0,
      "outputs": []
    },
    {
      "cell_type": "code",
      "metadata": {
        "id": "CYrTP6DZXHD0",
        "colab_type": "code",
        "outputId": "0e153e50-5098-492c-dcb6-9148d3a6c9ad",
        "colab": {
          "base_uri": "https://localhost:8080/",
          "height": 170
        }
      },
      "source": [
        "#Get the stock data\n",
        "df = quandl.get (\"WIKI/FB\")\n",
        "# Take a look at the data\n",
        "print(df.head())"
      ],
      "execution_count": 4,
      "outputs": [
        {
          "output_type": "stream",
          "text": [
            "             Open   High    Low  ...  Adj. Low  Adj. Close  Adj. Volume\n",
            "Date                             ...                                   \n",
            "2012-05-18  42.05  45.00  38.00  ...     38.00     38.2318  573576400.0\n",
            "2012-05-21  36.53  36.66  33.00  ...     33.00     34.0300  168192700.0\n",
            "2012-05-22  32.61  33.59  30.94  ...     30.94     31.0000  101786600.0\n",
            "2012-05-23  31.37  32.50  31.36  ...     31.36     32.0000   73600000.0\n",
            "2012-05-24  32.95  33.21  31.77  ...     31.77     33.0300   50237200.0\n",
            "\n",
            "[5 rows x 12 columns]\n"
          ],
          "name": "stdout"
        }
      ]
    },
    {
      "cell_type": "code",
      "metadata": {
        "id": "bKA2A59wX-vc",
        "colab_type": "code",
        "outputId": "34b194e4-9c63-4bdf-c45f-b79eba416552",
        "colab": {
          "base_uri": "https://localhost:8080/",
          "height": 136
        }
      },
      "source": [
        "# Get the adjustead close\n",
        "df = df[['Adj. Close']]\n",
        "# Take a look at reduced data\n",
        "print(df.head())"
      ],
      "execution_count": 5,
      "outputs": [
        {
          "output_type": "stream",
          "text": [
            "            Adj. Close\n",
            "Date                  \n",
            "2012-05-18     38.2318\n",
            "2012-05-21     34.0300\n",
            "2012-05-22     31.0000\n",
            "2012-05-23     32.0000\n",
            "2012-05-24     33.0300\n"
          ],
          "name": "stdout"
        }
      ]
    },
    {
      "cell_type": "code",
      "metadata": {
        "id": "SNBe1fg5YPID",
        "colab_type": "code",
        "outputId": "b15ded62-ab03-4f18-d764-b92d1fae1a2e",
        "colab": {
          "base_uri": "https://localhost:8080/",
          "height": 136
        }
      },
      "source": [
        "# A variable for predicting 'n' days into the future\n",
        "forecast_out = 30\n",
        "# Create another column (the target or dependent variable) shifted 'n' units up\n",
        "df['Prediction'] = df[['Adj. Close']].shift(-forecast_out)\n",
        "print(df.head())"
      ],
      "execution_count": 6,
      "outputs": [
        {
          "output_type": "stream",
          "text": [
            "            Adj. Close  Prediction\n",
            "Date                              \n",
            "2012-05-18     38.2318      30.771\n",
            "2012-05-21     34.0300      31.200\n",
            "2012-05-22     31.0000      31.470\n",
            "2012-05-23     32.0000      31.730\n",
            "2012-05-24     33.0300      32.170\n"
          ],
          "name": "stdout"
        }
      ]
    },
    {
      "cell_type": "code",
      "metadata": {
        "id": "BXZPBDoJZaDA",
        "colab_type": "code",
        "outputId": "c01871f2-69b4-4280-f2e9-f573de9b338e",
        "colab": {
          "base_uri": "https://localhost:8080/",
          "height": 136
        }
      },
      "source": [
        "### Create the independent data set (x) ###\n",
        "# Convert the dataframe to numpy array\"\n",
        "X = np.array(df.drop(['Prediction'], 1))\n",
        "#Remove the last 'n' rows\n",
        "X = X[:-forecast_out]\n",
        "print(X)"
      ],
      "execution_count": 7,
      "outputs": [
        {
          "output_type": "stream",
          "text": [
            "[[ 38.2318]\n",
            " [ 34.03  ]\n",
            " [ 31.    ]\n",
            " ...\n",
            " [171.5499]\n",
            " [175.98  ]\n",
            " [176.41  ]]\n"
          ],
          "name": "stdout"
        }
      ]
    },
    {
      "cell_type": "code",
      "metadata": {
        "id": "19Ild7sEaOwK",
        "colab_type": "code",
        "outputId": "6c421d23-e7a0-404d-e9d8-1bb10c81d4a0",
        "colab": {
          "base_uri": "https://localhost:8080/",
          "height": 34
        }
      },
      "source": [
        "### Create the dependent data set (Y) ###\n",
        "# Convert the dataframe to a numpy array (all of the values incl NaN's)\n",
        "y = np.array(df['Prediction'])\n",
        "# Get all the data except for the last 'n' rows\n",
        "y = y[:-forecast_out]\n",
        "print(y)"
      ],
      "execution_count": 8,
      "outputs": [
        {
          "output_type": "stream",
          "text": [
            "[ 30.771  31.2    31.47  ... 159.39  160.06  152.19 ]\n"
          ],
          "name": "stdout"
        }
      ]
    },
    {
      "cell_type": "code",
      "metadata": {
        "id": "-GUPCar-bJgM",
        "colab_type": "code",
        "colab": {}
      },
      "source": [
        "# Split the data into 80% training and 20% testing\n",
        "x_train, x_test, y_train, y_test = train_test_split(X, y, test_size=0.2)"
      ],
      "execution_count": 0,
      "outputs": []
    },
    {
      "cell_type": "code",
      "metadata": {
        "id": "dIkwyewVbfgf",
        "colab_type": "code",
        "outputId": "e6760c6a-b4f9-4ef4-9d71-effeb19454eb",
        "colab": {
          "base_uri": "https://localhost:8080/",
          "height": 51
        }
      },
      "source": [
        "# Create and train the Support Vector Machine (Regressor)\n",
        "svr_rbf = SVR(kernel='rbf', C=1e3, gamma=0.1)\n",
        "svr_rbf.fit(x_train, y_train)"
      ],
      "execution_count": 10,
      "outputs": [
        {
          "output_type": "execute_result",
          "data": {
            "text/plain": [
              "SVR(C=1000.0, cache_size=200, coef0=0.0, degree=3, epsilon=0.1, gamma=0.1,\n",
              "    kernel='rbf', max_iter=-1, shrinking=True, tol=0.001, verbose=False)"
            ]
          },
          "metadata": {
            "tags": []
          },
          "execution_count": 10
        }
      ]
    },
    {
      "cell_type": "code",
      "metadata": {
        "id": "-LzMva2RdX-J",
        "colab_type": "code",
        "outputId": "e70dea10-d195-4ddd-d0fa-2ee5274fd92e",
        "colab": {
          "base_uri": "https://localhost:8080/",
          "height": 34
        }
      },
      "source": [
        "# Testing model: Score returns the coefficuent of determination R2 of the prediction\n",
        "# Best score is 1.0\n",
        "svm_confidence = svr_rbf.score(x_test, y_test)\n",
        "print(\"svm confidence: \", svm_confidence)"
      ],
      "execution_count": 11,
      "outputs": [
        {
          "output_type": "stream",
          "text": [
            "svm confidence:  0.982357237678363\n"
          ],
          "name": "stdout"
        }
      ]
    },
    {
      "cell_type": "code",
      "metadata": {
        "id": "8j1BMepVeBa0",
        "colab_type": "code",
        "outputId": "c0f0fcb6-6e73-4cf4-ff5a-9bd8e22bde56",
        "colab": {
          "base_uri": "https://localhost:8080/",
          "height": 34
        }
      },
      "source": [
        "# Create and train the linear regression model\n",
        "lr = LinearRegression()\n",
        "# Train the model\n",
        "lr.fit(x_train, y_train)"
      ],
      "execution_count": 12,
      "outputs": [
        {
          "output_type": "execute_result",
          "data": {
            "text/plain": [
              "LinearRegression(copy_X=True, fit_intercept=True, n_jobs=None, normalize=False)"
            ]
          },
          "metadata": {
            "tags": []
          },
          "execution_count": 12
        }
      ]
    },
    {
      "cell_type": "code",
      "metadata": {
        "id": "dPYR-1L8Z5Xz",
        "colab_type": "code",
        "outputId": "66d13210-bbfd-4c58-901a-8aa83f9907b2",
        "colab": {
          "base_uri": "https://localhost:8080/",
          "height": 34
        }
      },
      "source": [
        "# Testing model: Score returns the coefficuent of determination R2 of the prediction\n",
        "# Best score is 1.0\n",
        "lr_confidence = lr.score(x_test, y_test)\n",
        "print(\"lr confidence: \", lr_confidence)"
      ],
      "execution_count": 14,
      "outputs": [
        {
          "output_type": "stream",
          "text": [
            "lr confidence:  0.9771742742118349\n"
          ],
          "name": "stdout"
        }
      ]
    },
    {
      "cell_type": "code",
      "metadata": {
        "id": "ni4MDVsufEQQ",
        "colab_type": "code",
        "colab": {}
      },
      "source": [
        "# https://www.youtube.com/watch?v=EYnC4ACIt2g @ 30:00\n",
        "\n",
        "# Set x_forecast equal to the last 30 rows of the original data set from Adj Close column\n",
        "x_forecast = np.array(df.drop(['Prediction'],1))[-forecast_out:]\n",
        "print(x_forecast)"
      ],
      "execution_count": 0,
      "outputs": []
    },
    {
      "cell_type": "code",
      "metadata": {
        "id": "THs1sVGXwCOe",
        "colab_type": "code",
        "colab": {
          "base_uri": "https://localhost:8080/",
          "height": 221
        },
        "outputId": "80f9d2d2-7b99-470a-bbb1-8c409bbd600e"
      },
      "source": [
        "# Print the prediction for the next 'n days\n",
        "lr_prediction = lr.predict(x_forecast)\n",
        "print(lr_prediction)\n",
        "\n",
        "# Print the support vector regressor prediction for the next 'n days\n",
        "svm_prediction = svr_rbf.predict(x_forecast)\n",
        "print(svm_prediction)"
      ],
      "execution_count": 18,
      "outputs": [
        {
          "output_type": "stream",
          "text": [
            "[176.8676221  183.30002184 183.74433203 181.11886275 179.75563831\n",
            " 181.67425048 182.76483003 187.1069523  188.76301754 185.25902585\n",
            " 182.08826679 179.6849526  180.3716138  184.18864222 183.56256877\n",
            " 187.53106657 186.14764622 189.06595631 188.59135224 185.68314012\n",
            " 188.01576859 187.68253595 188.92458488 176.27184254 171.81864272\n",
            " 173.0707896  168.52670816 162.97283083 163.64939407 155.70230051]\n",
            "[177.8349214  181.46927108 181.54342799 176.1868388  175.19010097\n",
            " 177.36625789 180.57863622 179.28392096 178.40204269 180.23661949\n",
            " 178.59025246 175.15291088 175.48977679 181.16765147 181.581682\n",
            " 178.52362469 180.21531581 179.2125276  178.08817579 180.21338355\n",
            " 177.88776394 178.27484863 178.79743321 178.63315182 171.1268751\n",
            " 173.11007755 172.16725395 167.55769938 166.26930324 157.36471486]\n"
          ],
          "name": "stdout"
        }
      ]
    }
  ]
}